{
 "cells": [
  {
   "cell_type": "code",
   "execution_count": 1,
   "id": "initial_id",
   "metadata": {
    "is_executing": true
   },
   "outputs": [],
   "source": [
    "import geopandas as gpd\n",
    "from shapely.geometry import Polygon\n",
    "\n",
    "from gedi_tools.classes.l2b import L2B \n",
    "from gedi_tools.handlers.cmr import GediAgent\n",
    "from gedi_tools.handlers.hd5 import GediTransformer"
   ]
  },
  {
   "cell_type": "code",
   "execution_count": 2,
   "id": "421b6906c0f65343",
   "metadata": {
    "collapsed": false,
    "jupyter": {
     "outputs_hidden": false
    },
    "scrolled": true
   },
   "outputs": [],
   "source": [
    "bbox = [46.78027, -16.34996, 46.84995, -16.31315]\n",
    "product = 'GEDI02_B.002'\n",
    "download_path = '/Users/iosefa/gedi'\n",
    "start_date = '2022-06-01'\n",
    "end_date = '2023-06-01'\n",
    "\n",
    "# Create a Shapely Polygon object representing the bounding box\n",
    "polygon_geom = Polygon([(bbox[0], bbox[1]), \n",
    "                        (bbox[0], bbox[3]), \n",
    "                        (bbox[2], bbox[3]), \n",
    "                        (bbox[2], bbox[1])])\n",
    "\n",
    "# Create a GeoDataFrame with the bounding box as its geometry\n",
    "gdf = gpd.GeoDataFrame(index=[0], crs=\"EPSG:4326\", geometry=[polygon_geom])\n",
    "\n",
    "# GediAgent.download_gedi(product, download_path, start_date=start_date, bbox=bbox)"
   ]
  },
  {
   "cell_type": "code",
   "execution_count": 3,
   "id": "a71fa083-b797-4963-b210-ff90b17a156d",
   "metadata": {},
   "outputs": [
    {
     "name": "stderr",
     "output_type": "stream",
     "text": [
      "Processing datasets: 100%\n",
      "Creating DataFrames:   0%\n"
     ]
    }
   ],
   "source": [
    "l2b1 = GediTransformer.hd5_to_l2b('/Users/iosefa/gedi/GEDI02_B_2023067044251_O23981_04_T10819_02_003_01_V002.h5')"
   ]
  },
  {
   "cell_type": "code",
   "execution_count": 4,
   "id": "2fea25b4-e6a3-4877-ba67-34d1e53c6066",
   "metadata": {},
   "outputs": [],
   "source": [
    "l2b1.clip(gdf)"
   ]
  },
  {
   "cell_type": "code",
   "execution_count": 5,
   "id": "570a7e89-3ffe-4775-91d3-4ab415a47a21",
   "metadata": {},
   "outputs": [
    {
     "data": {
      "text/plain": [
       "(509, 125)"
      ]
     },
     "execution_count": 5,
     "metadata": {},
     "output_type": "execute_result"
    }
   ],
   "source": [
    "l2b1.l2b.shape"
   ]
  },
  {
   "cell_type": "code",
   "execution_count": 15,
   "id": "b717f20c-cc51-4ceb-9e69-ab06f0fa1232",
   "metadata": {},
   "outputs": [
    {
     "name": "stderr",
     "output_type": "stream",
     "text": [
      "WARNING:root:Column 'aquisition_time' does not exist in any DataFrame.\n"
     ]
    }
   ],
   "source": [
    "l2b1.export_vector_data('test.gpkg', ['cover', 'rh100', 'pai', 'sensitivity', 'shot_number', 'aquisition_time', 'elev_lowestmode', 'digital_elevation_model'])"
   ]
  },
  {
   "cell_type": "code",
   "execution_count": 7,
   "id": "615199d1-29bb-4730-80a3-28d86907f003",
   "metadata": {},
   "outputs": [],
   "source": [
    "l2b1.clean()"
   ]
  },
  {
   "cell_type": "code",
   "execution_count": 11,
   "id": "e0fb4248-53a1-4504-a432-ccd9e03d8682",
   "metadata": {},
   "outputs": [],
   "source": [
    "l2b1.add_acquisition_time()"
   ]
  },
  {
   "cell_type": "code",
   "execution_count": 16,
   "id": "fafecb06-d7f2-42f0-8c1a-4e2729eccf7a",
   "metadata": {},
   "outputs": [],
   "source": [
    "l2b1.export_vector_data('test_clean.gpkg', ['cover', 'rh100', 'pai', 'sensitivity', 'shot_number', 'acquisition_time', 'elev_lowestmode', 'digital_elevation_model'])"
   ]
  },
  {
   "cell_type": "code",
   "execution_count": 14,
   "id": "ea1cf687-3f54-4f5e-9578-5db2403bfab6",
   "metadata": {},
   "outputs": [
    {
     "data": {
      "text/plain": [
       "(202, 126)"
      ]
     },
     "execution_count": 14,
     "metadata": {},
     "output_type": "execute_result"
    }
   ],
   "source": [
    "l2b1.l2b.shape"
   ]
  }
 ],
 "metadata": {
  "kernelspec": {
   "display_name": "Python 3 (ipykernel)",
   "language": "python",
   "name": "python3"
  },
  "language_info": {
   "codemirror_mode": {
    "name": "ipython",
    "version": 3
   },
   "file_extension": ".py",
   "mimetype": "text/x-python",
   "name": "python",
   "nbconvert_exporter": "python",
   "pygments_lexer": "ipython3",
   "version": "3.11.3"
  }
 },
 "nbformat": 4,
 "nbformat_minor": 5
}
